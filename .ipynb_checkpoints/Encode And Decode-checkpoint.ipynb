{
 "cells": [
  {
   "cell_type": "code",
   "execution_count": null,
   "metadata": {
    "scrolled": true
   },
   "outputs": [],
   "source": [
    "import base64\n",
    "# this code encode and decodes using base64 module.\n",
    "with open('Note.txt', 'r',  encoding='utf-8', errors='ignore') as reader:\n",
    "    file= reader.read()\n",
    "#     print(file)\n",
    "    bfile=bytes(file, 'utf8')\n",
    "    encoded = base64.b64encode(bfile)\n",
    "    # decoding base64 to bytes\n",
    "    data = base64.b64decode(encoded)\n",
    "    # Decoding the bytes to string\n",
    "    decoded = data.decode(\"UTF-8\")\n",
    "    # print(s2)\n",
    "    print(decoded)"
   ]
  },
  {
   "cell_type": "code",
   "execution_count": null,
   "metadata": {},
   "outputs": [],
   "source": [
    "import random\n",
    "unique = list(set(file))\n",
    "symbols = []\n",
    "\n",
    "def get_symbols(i):\n",
    "    j = i + len(unique)\n",
    "    for ch in range(i,j):\n",
    "        symbols.append(chr(ch))\n",
    "get_symbols(random.randint(500, 10000))\n",
    "print(symbols)\n",
    "mapped = dict(zip(symbols, unique))\n",
    "encodedList = []\n",
    "def encoding():\n",
    "    reverse = {v:k for k,v in mapped.items()}\n",
    "    matched =[reverse.get(item, item) for item in list(file)]\n",
    "    encoded = ''.join(matched)\n",
    "    print(encoded)\n",
    "    encodedList.append(matched)\n",
    "encoding()\n",
    "# print(encodedList[0])\n",
    "def decoding():\n",
    "    unreversed = {v:k for v,k in mapped.items()}\n",
    "    uncoded = [unreversed.get(item, item) for item in encodedList[0]]\n",
    "    decoded = ''.join(uncoded)\n",
    "    print(decoded)\n",
    "decoding()"
   ]
  },
  {
   "cell_type": "code",
   "execution_count": null,
   "metadata": {},
   "outputs": [],
   "source": []
  },
  {
   "cell_type": "code",
   "execution_count": null,
   "metadata": {},
   "outputs": [],
   "source": []
  },
  {
   "cell_type": "code",
   "execution_count": null,
   "metadata": {},
   "outputs": [],
   "source": []
  }
 ],
 "metadata": {
  "kernelspec": {
   "display_name": "Python 3",
   "language": "python",
   "name": "python3"
  },
  "language_info": {
   "codemirror_mode": {
    "name": "ipython",
    "version": 3
   },
   "file_extension": ".py",
   "mimetype": "text/x-python",
   "name": "python",
   "nbconvert_exporter": "python",
   "pygments_lexer": "ipython3",
   "version": "3.7.3"
  }
 },
 "nbformat": 4,
 "nbformat_minor": 2
}
