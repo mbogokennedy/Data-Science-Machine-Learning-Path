{
 "cells": [
  {
   "cell_type": "code",
   "execution_count": null,
   "metadata": {},
   "outputs": [],
   "source": [
    "import pandas as pd\n",
    "import numpy as np\n",
    "# from numpy import functools\n",
    "import matplotlib.pyplot as plt\n",
    "import seaborn as sns\n",
    "from sklearn.model_selection import train_test_split\n",
    "from sklearn.linear_model import LinearRegression\n",
    "from sklearn import metrics\n",
    "%matplotlib inline\n",
    "# read the data and convert it to a pada data frame which is easy to work with\n",
    "# a data frame is an object with column as the keys and list of values as the data\n",
    "df = pd.read_csv('England League1 19 oct 2018.csv')\n",
    "# head() gives the values first five rows of your data frame from index 0 to 4\n",
    "df.head()\n",
    "# info() gives the the range number of instances(rows) and the indexes, attributes(columns), number of rows in them and their data types and \n",
    "df.info()\n",
    "#  describe() gives the statistical representation of each column that have int or float (mean, max, min, std etc...)\n",
    "df.describe()\n",
    "# columns give the column names in a list and the datatype of the data frame\n",
    "df.columns\n",
    "# df[col]\n",
    "df['FTR'].dtypes\n"
   ]
  },
  {
   "cell_type": "code",
   "execution_count": null,
   "metadata": {},
   "outputs": [],
   "source": [
    "# detemine the number of rows and colunms in a data frame\n",
    "df.shape\n",
    "# detemine if there are null values in the data frame\n",
    "df.isnull().sum().sum()\n",
    "# detemine the lenth of the dataframe\n",
    "len(df)\n",
    "# Round all values to 2 decimal places\n",
    "# df.apply(functools.partial(np.round, decimals=2))\n",
    "# for col in df.columns:\n",
    "# #     print(df[col])\n",
    "#     for name, values in df[col].iteritems():\n",
    "# #         print(\"%r, %r\" % (name, values))\n",
    "#         if(values.dtype == np.float64 or values.dtype == np.int64):\n",
    "#             print(\"float or int type %r\" % (values.dtype))\n",
    "#             # treat_numeric(df[name])\n",
    "#         elif(df[name].dtype == np.str):\n",
    "#             print(\"string type %r\" % (df[name].dtype))\n",
    "#             #treat_str(df[y])\n",
    "#         elif(df[name].dtype == np.object):\n",
    "#             print(\"object type %r\" % (df[name].dtype))\n",
    "#             #treat_object(df[name])\n",
    "#         else:\n",
    "#             print(\"other type %r\" % (values.dtype))"
   ]
  },
  {
   "cell_type": "code",
   "execution_count": null,
   "metadata": {},
   "outputs": [],
   "source": [
    "\n",
    "from sklearn.preprocessing import LabelEncoder\n",
    "from sklearn.preprocessing import OneHotEncoder\n",
    "\n",
    "labelencoder = LabelEncoder()\n",
    "df['FTR'] = labelencoder.fit_transform(df['FTR'])\n",
    "\n",
    "# onehotencoder = OneHotEncoder(categorical_features = [5])\n",
    "# df = onehotencoder.fit_transform(df).toarray()\n",
    "df.head()\n",
    "# df.corr()\n",
    "# sns.heatmap(df.corr())"
   ]
  },
  {
   "cell_type": "code",
   "execution_count": null,
   "metadata": {},
   "outputs": [],
   "source": [
    "X = df[['B365H', 'B365D', 'B365A']]\n",
    "y = df['FTR']\n",
    "X_train, X_test, y_train, y_test = train_test_split(X, y, test_size=0.4, random_state=101)\n",
    "lm = LinearRegression()\n",
    "lm.fit(X_train,y_train)\n",
    "#To retrieve the intercept:\n",
    "print(lm.intercept_)\n",
    "#For retrieving the slope:\n",
    "# print(lm.coef_)\n",
    "coeff_df = pd.DataFrame(lm.coef_, X.columns, columns=['Coefficient'])  \n",
    "coeff_df\n",
    "predictions = lm.predict(X_test)\n",
    "plt.scatter(y_test,predictions)\n",
    "\n",
    "df1 = pd.DataFrame({'Actual': y_test, 'Predicted': predictions})\n",
    "df1.head(25)"
   ]
  },
  {
   "cell_type": "code",
   "execution_count": null,
   "metadata": {},
   "outputs": [],
   "source": [
    "df1.plot(figsize=(10,8))\n",
    "plt.grid(which='major', linestyle='-', linewidth='0.5', color='green')\n",
    "plt.grid(which='minor', linestyle=':', linewidth='0.5', color='black')\n",
    "sns.heatmap(df1.head(25))"
   ]
  },
  {
   "cell_type": "code",
   "execution_count": null,
   "metadata": {},
   "outputs": [],
   "source": []
  },
  {
   "cell_type": "code",
   "execution_count": null,
   "metadata": {},
   "outputs": [],
   "source": [
    "df.head()"
   ]
  }
 ],
 "metadata": {
  "kernelspec": {
   "display_name": "Python 3",
   "language": "python",
   "name": "python3"
  },
  "language_info": {
   "codemirror_mode": {
    "name": "ipython",
    "version": 3
   },
   "file_extension": ".py",
   "mimetype": "text/x-python",
   "name": "python",
   "nbconvert_exporter": "python",
   "pygments_lexer": "ipython3",
   "version": "3.7.3"
  }
 },
 "nbformat": 4,
 "nbformat_minor": 2
}
